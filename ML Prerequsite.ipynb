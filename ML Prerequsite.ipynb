{
 "cells": [
  {
   "cell_type": "markdown",
   "id": "5dc21220",
   "metadata": {},
   "source": [
    "# Prerequsite test"
   ]
  },
  {
   "cell_type": "markdown",
   "id": "2f0d800d",
   "metadata": {},
   "source": [
    "## Abhay Kumar Upparwal"
   ]
  },
  {
   "cell_type": "markdown",
   "id": "8163a2ec",
   "metadata": {},
   "source": [
    "## 21110004"
   ]
  },
  {
   "cell_type": "markdown",
   "id": "aa3ca03e",
   "metadata": {},
   "source": [
    "***"
   ]
  },
  {
   "cell_type": "markdown",
   "id": "5917de7b",
   "metadata": {},
   "source": [
    "#### <span style=\"color:red\"> Question 1 </span>"
   ]
  },
  {
   "cell_type": "markdown",
   "id": "e7546ad3",
   "metadata": {},
   "source": [
    "Total number of Multiplications = n*k*m\n",
    "Total number of Additions = n*(k-1)*m"
   ]
  },
  {
   "cell_type": "markdown",
   "id": "a7ac5e98",
   "metadata": {},
   "source": [
    "#### <span style=\"color:red\"> Question 2 </span>"
   ]
  },
  {
   "cell_type": "code",
   "execution_count": 1,
   "id": "b918af39",
   "metadata": {},
   "outputs": [
    {
     "name": "stdout",
     "output_type": "stream",
     "text": [
      "Time = 0.008074459000000367\n",
      "\n",
      "[44287. 57597. 52886. 57932. 56301. 60037. 62357. 55164. 50712. 43672.\n",
      " 52032. 52983. 37837. 58240. 40543. 41288. 58002. 50445. 44725. 57811.\n",
      " 49791. 39004. 58844. 54637. 66668. 51880. 44402. 57065. 38469. 54572.]\n",
      "[42504. 53207. 58095. 47279. 53767. 58590. 60396. 54595. 52803. 46620.\n",
      " 48712. 51982. 29221. 53692. 37185. 49199. 53922. 36780. 46288. 53141.\n",
      " 44411. 34970. 57627. 45419. 46411. 54524. 35977. 53862. 37136. 49398.]\n",
      "[39079. 52577. 49173. 50050. 59266. 61699. 54697. 54729. 49390. 47919.\n",
      " 51543. 47056. 35033. 55004. 40399. 47742. 52706. 44896. 47257. 54519.\n",
      " 43656. 36415. 58260. 51069. 51414. 44682. 45305. 53062. 42227. 56373.]\n",
      "[30489. 42810. 41529. 38869. 46165. 47453. 46735. 38543. 36948. 34559.\n",
      " 42577. 42125. 19477. 37341. 30486. 40101. 31504. 34440. 36000. 41935.\n",
      " 29204. 28154. 45645. 34499. 35630. 33625. 29572. 39723. 31027. 38731.]\n",
      "[44178. 61192. 60850. 57343. 55841. 67411. 64743. 58337. 53626. 44432.\n",
      " 53251. 63387. 41049. 57527. 44430. 50548. 54546. 54553. 49863. 61140.\n",
      " 53348. 41208. 72333. 51210. 59092. 54942. 48673. 64703. 42351. 54503.]\n",
      "[37119. 45362. 48351. 40799. 50572. 55407. 53570. 53609. 46210. 38310.\n",
      " 38200. 43707. 30503. 47268. 32531. 46020. 47911. 36006. 44270. 49927.\n",
      " 49356. 32913. 51220. 40991. 48008. 43669. 41526. 51672. 37113. 44601.]\n",
      "[50064. 62407. 67675. 64619. 64955. 78948. 69503. 65866. 52636. 54638.\n",
      " 63961. 67147. 46786. 60338. 43819. 54714. 62239. 57880. 49834. 63837.\n",
      " 52978. 47543. 65945. 53170. 71984. 55869. 55552. 74403. 39251. 62738.]\n",
      "[44265. 47839. 51825. 42945. 57554. 63163. 56974. 56987. 45231. 38232.\n",
      " 41227. 54570. 29973. 52164. 33090. 57390. 49869. 40433. 51313. 50481.\n",
      " 51334. 36348. 51450. 39685. 47125. 46478. 43526. 54177. 39364. 53846.]\n",
      "[30382. 43227. 35670. 40280. 42264. 48629. 49246. 42538. 41193. 28636.\n",
      " 40038. 36064. 29893. 40724. 25864. 35792. 39912. 33539. 38698. 41429.\n",
      " 39081. 25935. 41609. 37691. 38951. 39222. 39309. 46070. 26399. 35751.]\n",
      "[40014. 50124. 41671. 43379. 54728. 59659. 49721. 50266. 45719. 32667.\n",
      " 38410. 41533. 36458. 47738. 32287. 46429. 47732. 40094. 47063. 48846.\n",
      " 49738. 34276. 52085. 45776. 46055. 40044. 45551. 53239. 38377. 45199.]\n"
     ]
    }
   ],
   "source": [
    "import numpy as np\n",
    "import time\n",
    "\n",
    "n = 10\n",
    "k = 20\n",
    "m = 30\n",
    "\n",
    "A = np.random.randint(low = 1, high = 100, size = (n, k))\n",
    "B = np.random.randint(low = 1, high = 100, size = (k, m))\n",
    "\n",
    "Mul = np.zeros((n, m))\n",
    "\n",
    "st = time.perf_counter()\n",
    "for i in range(len(A)):\n",
    "    for j in range(len(B[0])):\n",
    "        for k in range(len(B)):\n",
    "            Mul[i][j] += A[i][k]*B[k][j]\n",
    "en = time.perf_counter()\n",
    "t = en - st\n",
    "print(\"Time =\", t)\n",
    "print()\n",
    "for x in Mul:\n",
    "    print(x)"
   ]
  },
  {
   "cell_type": "code",
   "execution_count": 2,
   "id": "86aa19ad",
   "metadata": {},
   "outputs": [
    {
     "name": "stdout",
     "output_type": "stream",
     "text": [
      "Time = 0.00038837499999999636\n",
      "\n",
      "[44287 57597 52886 57932 56301 60037 62357 55164 50712 43672 52032 52983\n",
      " 37837 58240 40543 41288 58002 50445 44725 57811 49791 39004 58844 54637\n",
      " 66668 51880 44402 57065 38469 54572]\n",
      "[42504 53207 58095 47279 53767 58590 60396 54595 52803 46620 48712 51982\n",
      " 29221 53692 37185 49199 53922 36780 46288 53141 44411 34970 57627 45419\n",
      " 46411 54524 35977 53862 37136 49398]\n",
      "[39079 52577 49173 50050 59266 61699 54697 54729 49390 47919 51543 47056\n",
      " 35033 55004 40399 47742 52706 44896 47257 54519 43656 36415 58260 51069\n",
      " 51414 44682 45305 53062 42227 56373]\n",
      "[30489 42810 41529 38869 46165 47453 46735 38543 36948 34559 42577 42125\n",
      " 19477 37341 30486 40101 31504 34440 36000 41935 29204 28154 45645 34499\n",
      " 35630 33625 29572 39723 31027 38731]\n",
      "[44178 61192 60850 57343 55841 67411 64743 58337 53626 44432 53251 63387\n",
      " 41049 57527 44430 50548 54546 54553 49863 61140 53348 41208 72333 51210\n",
      " 59092 54942 48673 64703 42351 54503]\n",
      "[37119 45362 48351 40799 50572 55407 53570 53609 46210 38310 38200 43707\n",
      " 30503 47268 32531 46020 47911 36006 44270 49927 49356 32913 51220 40991\n",
      " 48008 43669 41526 51672 37113 44601]\n",
      "[50064 62407 67675 64619 64955 78948 69503 65866 52636 54638 63961 67147\n",
      " 46786 60338 43819 54714 62239 57880 49834 63837 52978 47543 65945 53170\n",
      " 71984 55869 55552 74403 39251 62738]\n",
      "[44265 47839 51825 42945 57554 63163 56974 56987 45231 38232 41227 54570\n",
      " 29973 52164 33090 57390 49869 40433 51313 50481 51334 36348 51450 39685\n",
      " 47125 46478 43526 54177 39364 53846]\n",
      "[30382 43227 35670 40280 42264 48629 49246 42538 41193 28636 40038 36064\n",
      " 29893 40724 25864 35792 39912 33539 38698 41429 39081 25935 41609 37691\n",
      " 38951 39222 39309 46070 26399 35751]\n",
      "[40014 50124 41671 43379 54728 59659 49721 50266 45719 32667 38410 41533\n",
      " 36458 47738 32287 46429 47732 40094 47063 48846 49738 34276 52085 45776\n",
      " 46055 40044 45551 53239 38377 45199]\n"
     ]
    }
   ],
   "source": [
    "\n",
    "Mul2 = np.zeros((n, m))\n",
    "st = time.perf_counter()\n",
    "Mul = np.dot(A,B)\n",
    "en = time.perf_counter()\n",
    "t = en - st\n",
    "print(\"Time =\", t)\n",
    "print()\n",
    "for x in Mul:\n",
    "    print(x)"
   ]
  },
  {
   "cell_type": "markdown",
   "id": "a020dbde",
   "metadata": {},
   "source": [
    "Timing of numpy is much lesser than list of lists\n",
    "Numpy inbuilt method is much more optimised and faster than list of lists method. array is used in mumpy wheras list is used in list of list method"
   ]
  },
  {
   "cell_type": "markdown",
   "id": "3868b687",
   "metadata": {},
   "source": [
    "#### <span style=\"color:red\"> Question 3</span>"
   ]
  },
  {
   "cell_type": "markdown",
   "id": "8de84a17",
   "metadata": {},
   "source": [
    "The time complexity for finding the median is O(N^2) {n(3n+2)/8}\n",
    "\n",
    "Better approach : Sort the array in increasing order, then taking the taking the median."
   ]
  },
  {
   "cell_type": "code",
   "execution_count": null,
   "id": "c3d7f067",
   "metadata": {},
   "outputs": [],
   "source": []
  },
  {
   "cell_type": "code",
   "execution_count": 3,
   "id": "e07f3d7f",
   "metadata": {},
   "outputs": [
    {
     "name": "stdout",
     "output_type": "stream",
     "text": [
      "47.0\n",
      "\n",
      "Time = 0.0013509580000001797\n"
     ]
    }
   ],
   "source": [
    "st = time.perf_counter()\n",
    "def largest(arr, n):\n",
    "\n",
    "    max = arr[0]\n",
    "    \n",
    "    for i in range(1, n):\n",
    "        if arr[i] > max:\n",
    "            max = arr[i]\n",
    "    return max\n",
    "np.random.seed(0)\n",
    "f = np.random.randint(low = 0, high = 100, size = (100,))\n",
    "b = list(f) \n",
    "\n",
    "l = len(b)\n",
    "if(l%2 == 1):\n",
    "    for i in range(0, int(l/2)+1):\n",
    "        c = largest(b, l-i)\n",
    "        b.remove(c)\n",
    "    print(c)\n",
    "else:\n",
    "    for i in range(0, int(l/2)+1):\n",
    "        d = largest(b, l-i)\n",
    "        b.remove(d)\n",
    "        if(i < (int(l/2))):\n",
    "            e = d\n",
    "    print((e+d)/2)\n",
    "print() \n",
    "en = time.perf_counter()\n",
    "t = en - st\n",
    "print(\"Time =\", t)   "
   ]
  },
  {
   "cell_type": "code",
   "execution_count": 4,
   "id": "232bc203",
   "metadata": {},
   "outputs": [
    {
     "name": "stdout",
     "output_type": "stream",
     "text": [
      "47.0\n",
      "\n",
      "Time = 0.0005045420000002743\n"
     ]
    }
   ],
   "source": [
    "\n",
    "b = list(f)\n",
    "st = time.perf_counter()\n",
    "b.sort()\n",
    "mid = len(b)//2\n",
    "if(len(b)%2 == 0):\n",
    "    ans = (b[mid] + b[mid-1])/2\n",
    "else:\n",
    "    ans = (b[mid])\n",
    "print(ans)\n",
    "print()\n",
    "en = time.perf_counter()\n",
    "t = en - st\n",
    "print(\"Time =\", t)"
   ]
  },
  {
   "cell_type": "code",
   "execution_count": 5,
   "id": "2ea6b3d3",
   "metadata": {},
   "outputs": [
    {
     "name": "stdout",
     "output_type": "stream",
     "text": [
      "47.0\n",
      "\n",
      "Time = 0.0008850830000000087\n"
     ]
    }
   ],
   "source": [
    "\n",
    "st = time.perf_counter()\n",
    "b = list(f)\n",
    "print(np.median(b))\n",
    "print()\n",
    "en = time.perf_counter()\n",
    "t = en - st\n",
    "print(\"Time =\", t)\n"
   ]
  },
  {
   "cell_type": "markdown",
   "id": "b810e6ce",
   "metadata": {},
   "source": [
    "#### <span style=\"color:red\"> Question 4 </span>"
   ]
  },
  {
   "cell_type": "markdown",
   "id": "7fef4858",
   "metadata": {},
   "source": [
    "Gradient = (2xy + y^3 * cosx) + (x^2 + 3y^2 * sinx)j\n"
   ]
  },
  {
   "cell_type": "markdown",
   "id": "db07db08",
   "metadata": {},
   "source": [
    "#### <span style=\"color:red\"> Question 5 </span>"
   ]
  },
  {
   "cell_type": "code",
   "execution_count": 6,
   "id": "0d72211b",
   "metadata": {},
   "outputs": [
    {
     "ename": "RuntimeError",
     "evalue": "jaxlib is version 0.1.74, but this version of jax requires version >= 0.3.7.",
     "output_type": "error",
     "traceback": [
      "\u001b[0;31m---------------------------------------------------------------------------\u001b[0m",
      "\u001b[0;31mRuntimeError\u001b[0m                              Traceback (most recent call last)",
      "Input \u001b[0;32mIn [6]\u001b[0m, in \u001b[0;36m<cell line: 1>\u001b[0;34m()\u001b[0m\n\u001b[0;32m----> 1\u001b[0m \u001b[38;5;28;01mimport\u001b[39;00m \u001b[38;5;21;01mjax\u001b[39;00m\u001b[38;5;21;01m.\u001b[39;00m\u001b[38;5;21;01mnumpy\u001b[39;00m \u001b[38;5;28;01mas\u001b[39;00m \u001b[38;5;21;01mjnp\u001b[39;00m\n\u001b[1;32m      2\u001b[0m \u001b[38;5;28;01mfrom\u001b[39;00m \u001b[38;5;21;01mjax\u001b[39;00m \u001b[38;5;28;01mimport\u001b[39;00m grad\n\u001b[1;32m      3\u001b[0m \u001b[38;5;28;01mdef\u001b[39;00m \u001b[38;5;21mfunction\u001b[39m(x, y):\n",
      "File \u001b[0;32m~/opt/anaconda3/lib/python3.9/site-packages/jax/__init__.py:35\u001b[0m, in \u001b[0;36m<module>\u001b[0;34m\u001b[0m\n\u001b[1;32m     30\u001b[0m \u001b[38;5;28;01mdel\u001b[39;00m _cloud_tpu_init\n\u001b[1;32m     32\u001b[0m \u001b[38;5;66;03m# Confusingly there are two things named \"config\": the module and the class.\u001b[39;00m\n\u001b[1;32m     33\u001b[0m \u001b[38;5;66;03m# We want the exported object to be the class, so we first import the module\u001b[39;00m\n\u001b[1;32m     34\u001b[0m \u001b[38;5;66;03m# to make sure a later import doesn't overwrite the class.\u001b[39;00m\n\u001b[0;32m---> 35\u001b[0m \u001b[38;5;28;01mfrom\u001b[39;00m \u001b[38;5;21;01mjax\u001b[39;00m \u001b[38;5;28;01mimport\u001b[39;00m config \u001b[38;5;28;01mas\u001b[39;00m _config_module\n\u001b[1;32m     36\u001b[0m \u001b[38;5;28;01mdel\u001b[39;00m _config_module\n\u001b[1;32m     38\u001b[0m \u001b[38;5;28;01mfrom\u001b[39;00m \u001b[38;5;21;01mjax\u001b[39;00m\u001b[38;5;21;01m.\u001b[39;00m\u001b[38;5;21;01m_src\u001b[39;00m\u001b[38;5;21;01m.\u001b[39;00m\u001b[38;5;21;01mconfig\u001b[39;00m \u001b[38;5;28;01mimport\u001b[39;00m (\n\u001b[1;32m     39\u001b[0m   config \u001b[38;5;28;01mas\u001b[39;00m config,\n\u001b[1;32m     40\u001b[0m   enable_checks \u001b[38;5;28;01mas\u001b[39;00m enable_checks,\n\u001b[0;32m   (...)\u001b[0m\n\u001b[1;32m     57\u001b[0m   transfer_guard_device_to_host \u001b[38;5;28;01mas\u001b[39;00m transfer_guard_device_to_host,\n\u001b[1;32m     58\u001b[0m )\n",
      "File \u001b[0;32m~/opt/anaconda3/lib/python3.9/site-packages/jax/config.py:17\u001b[0m, in \u001b[0;36m<module>\u001b[0;34m\u001b[0m\n\u001b[1;32m      1\u001b[0m \u001b[38;5;66;03m# Copyright 2018 Google LLC\u001b[39;00m\n\u001b[1;32m      2\u001b[0m \u001b[38;5;66;03m#\u001b[39;00m\n\u001b[1;32m      3\u001b[0m \u001b[38;5;66;03m# Licensed under the Apache License, Version 2.0 (the \"License\");\u001b[39;00m\n\u001b[0;32m   (...)\u001b[0m\n\u001b[1;32m     14\u001b[0m \n\u001b[1;32m     15\u001b[0m \u001b[38;5;66;03m# TODO(phawkins): fix users of this alias and delete this file.\u001b[39;00m\n\u001b[0;32m---> 17\u001b[0m \u001b[38;5;28;01mfrom\u001b[39;00m \u001b[38;5;21;01mjax\u001b[39;00m\u001b[38;5;21;01m.\u001b[39;00m\u001b[38;5;21;01m_src\u001b[39;00m\u001b[38;5;21;01m.\u001b[39;00m\u001b[38;5;21;01mconfig\u001b[39;00m \u001b[38;5;28;01mimport\u001b[39;00m config\n",
      "File \u001b[0;32m~/opt/anaconda3/lib/python3.9/site-packages/jax/_src/config.py:29\u001b[0m, in \u001b[0;36m<module>\u001b[0;34m\u001b[0m\n\u001b[1;32m     25\u001b[0m \u001b[38;5;28;01mimport\u001b[39;00m \u001b[38;5;21;01mwarnings\u001b[39;00m\n\u001b[1;32m     27\u001b[0m \u001b[38;5;28;01mfrom\u001b[39;00m \u001b[38;5;21;01mabsl\u001b[39;00m \u001b[38;5;28;01mimport\u001b[39;00m logging\n\u001b[0;32m---> 29\u001b[0m \u001b[38;5;28;01mfrom\u001b[39;00m \u001b[38;5;21;01mjax\u001b[39;00m\u001b[38;5;21;01m.\u001b[39;00m\u001b[38;5;21;01m_src\u001b[39;00m \u001b[38;5;28;01mimport\u001b[39;00m lib\n\u001b[1;32m     30\u001b[0m \u001b[38;5;28;01mfrom\u001b[39;00m \u001b[38;5;21;01mjax\u001b[39;00m\u001b[38;5;21;01m.\u001b[39;00m\u001b[38;5;21;01m_src\u001b[39;00m\u001b[38;5;21;01m.\u001b[39;00m\u001b[38;5;21;01mlib\u001b[39;00m \u001b[38;5;28;01mimport\u001b[39;00m jax_jit\n\u001b[1;32m     31\u001b[0m \u001b[38;5;28;01mfrom\u001b[39;00m \u001b[38;5;21;01mjax\u001b[39;00m\u001b[38;5;21;01m.\u001b[39;00m\u001b[38;5;21;01m_src\u001b[39;00m\u001b[38;5;21;01m.\u001b[39;00m\u001b[38;5;21;01mlib\u001b[39;00m \u001b[38;5;28;01mimport\u001b[39;00m transfer_guard_lib\n",
      "File \u001b[0;32m~/opt/anaconda3/lib/python3.9/site-packages/jax/_src/lib/__init__.py:94\u001b[0m, in \u001b[0;36m<module>\u001b[0;34m\u001b[0m\n\u001b[1;32m     91\u001b[0m   \u001b[38;5;28;01mreturn\u001b[39;00m _jaxlib_version\n\u001b[1;32m     93\u001b[0m version_str \u001b[38;5;241m=\u001b[39m jaxlib\u001b[38;5;241m.\u001b[39mversion\u001b[38;5;241m.\u001b[39m__version__\n\u001b[0;32m---> 94\u001b[0m version \u001b[38;5;241m=\u001b[39m \u001b[43mcheck_jaxlib_version\u001b[49m\u001b[43m(\u001b[49m\n\u001b[1;32m     95\u001b[0m \u001b[43m  \u001b[49m\u001b[43mjax_version\u001b[49m\u001b[38;5;241;43m=\u001b[39;49m\u001b[43mjax\u001b[49m\u001b[38;5;241;43m.\u001b[39;49m\u001b[43mversion\u001b[49m\u001b[38;5;241;43m.\u001b[39;49m\u001b[43m__version__\u001b[49m\u001b[43m,\u001b[49m\n\u001b[1;32m     96\u001b[0m \u001b[43m  \u001b[49m\u001b[43mjaxlib_version\u001b[49m\u001b[38;5;241;43m=\u001b[39;49m\u001b[43mjaxlib\u001b[49m\u001b[38;5;241;43m.\u001b[39;49m\u001b[43mversion\u001b[49m\u001b[38;5;241;43m.\u001b[39;49m\u001b[43m__version__\u001b[49m\u001b[43m,\u001b[49m\n\u001b[1;32m     97\u001b[0m \u001b[43m  \u001b[49m\u001b[43mminimum_jaxlib_version\u001b[49m\u001b[38;5;241;43m=\u001b[39;49m\u001b[43mjax\u001b[49m\u001b[38;5;241;43m.\u001b[39;49m\u001b[43mversion\u001b[49m\u001b[38;5;241;43m.\u001b[39;49m\u001b[43m_minimum_jaxlib_version\u001b[49m\u001b[43m)\u001b[49m\n\u001b[1;32m    101\u001b[0m \u001b[38;5;66;03m# Before importing any C compiled modules from jaxlib, first import the CPU\u001b[39;00m\n\u001b[1;32m    102\u001b[0m \u001b[38;5;66;03m# feature guard module to verify that jaxlib was compiled in a way that only\u001b[39;00m\n\u001b[1;32m    103\u001b[0m \u001b[38;5;66;03m# uses instructions that are present on this machine.\u001b[39;00m\n\u001b[1;32m    104\u001b[0m \u001b[38;5;28;01mimport\u001b[39;00m \u001b[38;5;21;01mjaxlib\u001b[39;00m\u001b[38;5;21;01m.\u001b[39;00m\u001b[38;5;21;01mcpu_feature_guard\u001b[39;00m \u001b[38;5;28;01mas\u001b[39;00m \u001b[38;5;21;01mcpu_feature_guard\u001b[39;00m\n",
      "File \u001b[0;32m~/opt/anaconda3/lib/python3.9/site-packages/jax/_src/lib/__init__.py:83\u001b[0m, in \u001b[0;36mcheck_jaxlib_version\u001b[0;34m(jax_version, jaxlib_version, minimum_jaxlib_version)\u001b[0m\n\u001b[1;32m     80\u001b[0m \u001b[38;5;28;01mif\u001b[39;00m _jaxlib_version \u001b[38;5;241m<\u001b[39m _minimum_jaxlib_version:\n\u001b[1;32m     81\u001b[0m   msg \u001b[38;5;241m=\u001b[39m (\u001b[38;5;124mf\u001b[39m\u001b[38;5;124m'\u001b[39m\u001b[38;5;124mjaxlib is version \u001b[39m\u001b[38;5;132;01m{\u001b[39;00mjaxlib_version\u001b[38;5;132;01m}\u001b[39;00m\u001b[38;5;124m, but this version \u001b[39m\u001b[38;5;124m'\u001b[39m\n\u001b[1;32m     82\u001b[0m          \u001b[38;5;124mf\u001b[39m\u001b[38;5;124m'\u001b[39m\u001b[38;5;124mof jax requires version >= \u001b[39m\u001b[38;5;132;01m{\u001b[39;00mminimum_jaxlib_version\u001b[38;5;132;01m}\u001b[39;00m\u001b[38;5;124m.\u001b[39m\u001b[38;5;124m'\u001b[39m)\n\u001b[0;32m---> 83\u001b[0m   \u001b[38;5;28;01mraise\u001b[39;00m \u001b[38;5;167;01mRuntimeError\u001b[39;00m(msg)\n\u001b[1;32m     85\u001b[0m \u001b[38;5;28;01mif\u001b[39;00m _jaxlib_version \u001b[38;5;241m>\u001b[39m _jax_version:\n\u001b[1;32m     86\u001b[0m   msg \u001b[38;5;241m=\u001b[39m (\u001b[38;5;124mf\u001b[39m\u001b[38;5;124m'\u001b[39m\u001b[38;5;124mjaxlib version \u001b[39m\u001b[38;5;132;01m{\u001b[39;00mjaxlib_version\u001b[38;5;132;01m}\u001b[39;00m\u001b[38;5;124m is newer than and \u001b[39m\u001b[38;5;124m'\u001b[39m\n\u001b[1;32m     87\u001b[0m          \u001b[38;5;124mf\u001b[39m\u001b[38;5;124m'\u001b[39m\u001b[38;5;124mincompatible with jax version \u001b[39m\u001b[38;5;132;01m{\u001b[39;00mjax_version\u001b[38;5;132;01m}\u001b[39;00m\u001b[38;5;124m. Please \u001b[39m\u001b[38;5;124m'\u001b[39m\n\u001b[1;32m     88\u001b[0m          \u001b[38;5;124m'\u001b[39m\u001b[38;5;124mupdate your jax and/or jaxlib packages.\u001b[39m\u001b[38;5;124m'\u001b[39m)\n",
      "\u001b[0;31mRuntimeError\u001b[0m: jaxlib is version 0.1.74, but this version of jax requires version >= 0.3.7."
     ]
    }
   ],
   "source": [
    "import jax.numpy as jnp\n",
    "from jax import grad\n",
    "def function(x, y):\n",
    "    return x**2*y + y**3*jnp.sin(x)\n",
    "x = 2.0\n",
    "y = 4.0\n",
    "df_dx = grad(function)\n",
    "df_dy = grad(function, argnums=1)\n",
    "\n",
    "print(df_dx(1., 1.))\n",
    "print(df_dx(1.,1.))"
   ]
  },
  {
   "cell_type": "markdown",
   "id": "6d30bd21",
   "metadata": {},
   "source": [
    "\"I am facing some problem with JAX file on my pc, but tried my code and its working on my friends pc.\""
   ]
  },
  {
   "cell_type": "markdown",
   "id": "1b663dd1",
   "metadata": {},
   "source": [
    "#### <span style=\"color:red\"> Question 6 </span>"
   ]
  },
  {
   "cell_type": "code",
   "execution_count": 7,
   "id": "553f39bf",
   "metadata": {},
   "outputs": [
    {
     "name": "stdout",
     "output_type": "stream",
     "text": [
      "2*x*y + y**3*cos(x)\n",
      "x**2 + 3*y**2*sin(x)\n"
     ]
    }
   ],
   "source": [
    "import sympy\n",
    "x, y = sympy.symbols('x y')\n",
    "fn=x**2*y + y**3*sympy.sin(x)\n",
    "dx = sympy.Derivative(fn, x)\n",
    "dy = sympy.Derivative(fn, y)\n",
    "print(format(dx.doit()))\n",
    "print(format(dy.doit()))\n",
    "\n",
    "\n"
   ]
  },
  {
   "cell_type": "markdown",
   "id": "0bf1e195",
   "metadata": {},
   "source": [
    "#### <span style=\"color:red\"> Question 7 </span>"
   ]
  },
  {
   "cell_type": "code",
   "execution_count": 8,
   "id": "26b96335",
   "metadata": {},
   "outputs": [],
   "source": [
    "College = {'2022':{'Branch 1' : {'Roll No.' : 1, 'Name' : 'N', 'Marks' : {'Maths' : 100, 'English' : 70}} , \n",
    "                   'Branch 2' : 'NULL'}, \n",
    "           '2023' : {'Branch 1' : 'NULL', 'Branch 2' : 'NULL'}, \n",
    "           '2024' : {'Branch 1' : 'NULL', 'Branch 2' : 'NULL'}, \n",
    "           '2025' : {'Branch 1' : 'NULL', 'Branch 2' : 'NULL'}}\n"
   ]
  },
  {
   "cell_type": "markdown",
   "id": "848fe2d0",
   "metadata": {},
   "source": [
    "#### <span style=\"color:red\"> Question 8 </span>"
   ]
  },
  {
   "cell_type": "code",
   "execution_count": 9,
   "id": "db9585de",
   "metadata": {},
   "outputs": [
    {
     "name": "stdout",
     "output_type": "stream",
     "text": [
      "100\n",
      "70\n"
     ]
    }
   ],
   "source": [
    "class College:\n",
    "    def __init__(self,list1):\n",
    "        self.year = list1\n",
    "\n",
    "class Year:\n",
    "    def __init__(self,t ,list2):\n",
    "        self.year = t\n",
    "        self.branch = list2\n",
    "class Branch:\n",
    "    def __init__(self, t2, r, n ,list3):\n",
    "        self.branch = t2\n",
    "        self.rollNo = r\n",
    "        self.name = n\n",
    "        self.marks = list3\n",
    "class Marks:\n",
    "    def __init__(self,t3 , m):\n",
    "        self.marks = t3\n",
    "        self.subject = m\n",
    "        \n",
    "\n",
    "IIT = College(\n",
    "    [\n",
    "        Year(\n",
    "            2022,[\n",
    "            Branch(\n",
    "                \"Branch 1\",4, \"Abhay\",[ Marks(100,\"Maths\"),Marks(70, \"English\")]\n",
    "                                                    \n",
    "                    \n",
    "            ),Branch(\"Branch 2\", \"NULL\", \"NULL\", \"NULL\")]\n",
    "        )        \n",
    "    ]\n",
    ")\n",
    "\n",
    "print(IIT.year[0].branch[0].marks[0].marks)\n",
    "print(IIT.year[0].branch[0].marks[1].marks)"
   ]
  },
  {
   "cell_type": "markdown",
   "id": "7f195ac1",
   "metadata": {},
   "source": [
    "#### <span style=\"color:red\"> Question 9 </span>"
   ]
  },
  {
   "cell_type": "code",
   "execution_count": 10,
   "id": "b84d6428",
   "metadata": {},
   "outputs": [
    {
     "data": {
      "image/png": "[encoded data removed]",
      "text/plain": [
       "<Figure size 432x288 with 1 Axes>"
      ]
     },
     "metadata": {
      "needs_background": "light"
     },
     "output_type": "display_data"
    }
   ],
   "source": [
    "from matplotlib import pyplot as plt\n",
    "\n",
    "ax1 = plt.subplot()\n",
    "\n",
    "a = np.arange(0.5, 100, 0.5)\n",
    "\n",
    "line = plt.plot(a, a, lw=2)             \n",
    "plt.title('y = x')\n",
    "plt.ylim(-1,102)\n",
    "plt.show()"
   ]
  },
  {
   "cell_type": "code",
   "execution_count": 11,
   "id": "0d3d2757",
   "metadata": {},
   "outputs": [
    {
     "data": {
      "image/png": "[encoded data removed]",
      "text/plain": [
       "<Figure size 432x288 with 1 Axes>"
      ]
     },
     "metadata": {
      "needs_background": "light"
     },
     "output_type": "display_data"
    }
   ],
   "source": [
    "ax2 = plt.subplot()\n",
    "\n",
    "a = np.arange(0.5, 100, 0.5)\n",
    "\n",
    "line = plt.plot(a, a**2, lw=2)             \n",
    "plt.title('y = x^2')\n",
    "plt.ylim(-1,10050)\n",
    "plt.show()"
   ]
  },
  {
   "cell_type": "code",
   "execution_count": 12,
   "id": "9aa9e075",
   "metadata": {},
   "outputs": [
    {
     "data": {
      "image/png": "[encoded data removed]",
      "text/plain": [
       "<Figure size 432x288 with 1 Axes>"
      ]
     },
     "metadata": {
      "needs_background": "light"
     },
     "output_type": "display_data"
    }
   ],
   "source": [
    "ax3 = plt.subplot()\n",
    "\n",
    "a = np.arange(0.5, 100, 0.5)\n",
    "\n",
    "line = plt.plot(a, (a**3)/100, lw=2)             \n",
    "plt.title('y = x^3/100')\n",
    "plt.ylim(-1,10050)\n",
    "plt.show()"
   ]
  },
  {
   "cell_type": "code",
   "execution_count": 13,
   "id": "a840e11c",
   "metadata": {},
   "outputs": [
    {
     "data": {
      "image/png": "[encoded data removed]",
      "text/plain": [
       "<Figure size 432x288 with 1 Axes>"
      ]
     },
     "metadata": {
      "needs_background": "light"
     },
     "output_type": "display_data"
    }
   ],
   "source": [
    "ax4 = plt.subplot()\n",
    "\n",
    "a = np.arange(0.5, 100, 0.5)\n",
    "s = np.sin(a)\n",
    "line = plt.plot(a, s, lw=2)             \n",
    "plt.title('y = sin(x)')\n",
    "plt.ylim(-1.5, 1.5)\n",
    "plt.show()"
   ]
  },
  {
   "cell_type": "code",
   "execution_count": 14,
   "id": "e979d6a1",
   "metadata": {},
   "outputs": [
    {
     "data": {
      "image/png": "[encoded data removed]",
      "text/plain": [
       "<Figure size 432x288 with 1 Axes>"
      ]
     },
     "metadata": {
      "needs_background": "light"
     },
     "output_type": "display_data"
    }
   ],
   "source": [
    "ax5 = plt.subplot()\n",
    "\n",
    "a = np.arange(0.5, 100, 0.5)\n",
    "s = np.sin(a)\n",
    "line = plt.plot(a, s/a, lw=2)             \n",
    "plt.title('y = sin(x)/x')\n",
    "plt.ylim(-1.5, 1.5)\n",
    "plt.show()"
   ]
  },
  {
   "cell_type": "code",
   "execution_count": 15,
   "id": "787c4c66",
   "metadata": {},
   "outputs": [
    {
     "data": {
      "image/png": "[encoded data removed]",
      "text/plain": [
       "<Figure size 432x288 with 1 Axes>"
      ]
     },
     "metadata": {
      "needs_background": "light"
     },
     "output_type": "display_data"
    }
   ],
   "source": [
    "ax6 = plt.subplot()\n",
    "\n",
    "a = np.arange(0.5, 100, 0.5)\n",
    "s = np.log(a)\n",
    "line = plt.plot(a, s, lw=2)             \n",
    "plt.title('y = log(x)')\n",
    "plt.ylim(-1.5, 5)\n",
    "plt.show()"
   ]
  },
  {
   "cell_type": "code",
   "execution_count": 16,
   "id": "64160e9b",
   "metadata": {},
   "outputs": [
    {
     "data": {
      "image/png": "[encoded data removed]",
      "text/plain": [
       "<Figure size 432x288 with 1 Axes>"
      ]
     },
     "metadata": {
      "needs_background": "light"
     },
     "output_type": "display_data"
    }
   ],
   "source": [
    "ax7 = plt.subplot()\n",
    "\n",
    "a = np.arange(0.5, 100, 0.5)\n",
    "s = np.exp(a)\n",
    "line = plt.plot(a, s, lw=2)             \n",
    "plt.title('y = exp(x)')\n",
    "plt.show()"
   ]
  },
  {
   "cell_type": "markdown",
   "id": "069782e6",
   "metadata": {},
   "source": [
    "#### <span style=\"color:red\"> Question 10 </span>"
   ]
  },
  {
   "cell_type": "code",
   "execution_count": 17,
   "id": "704da36a",
   "metadata": {},
   "outputs": [
    {
     "name": "stdout",
     "output_type": "stream",
     "text": [
      "[[1.13818295 1.19658236 1.36872517 1.82099323 1.09710128]\n",
      " [1.83794491 1.09609841 1.97645947 1.4686512  1.97676109]\n",
      " [1.60484552 1.73926358 1.03918779 1.28280696 1.12019656]\n",
      " [1.2961402  1.11872772 1.31798318 1.41426299 1.0641475 ]\n",
      " [1.69247212 1.56660145 1.26538949 1.52324805 1.09394051]\n",
      " [1.5759465  1.9292962  1.31856895 1.66741038 1.13179786]\n",
      " [1.7163272  1.28940609 1.18319136 1.58651293 1.02010755]\n",
      " [1.82894003 1.00469548 1.67781654 1.27000797 1.73519402]\n",
      " [1.96218855 1.24875314 1.57615733 1.59204193 1.57225191]\n",
      " [1.22308163 1.95274901 1.44712538 1.84640867 1.69947928]\n",
      " [1.29743695 1.81379782 1.39650574 1.8811032  1.58127287]\n",
      " [1.88173536 1.69253159 1.72525428 1.50132438 1.95608363]\n",
      " [1.6439902  1.42385505 1.60639321 1.0191932  1.30157482]\n",
      " [1.66017354 1.29007761 1.61801543 1.4287687  1.13547406]\n",
      " [1.29828233 1.56996491 1.59087276 1.57432525 1.65320082]\n",
      " [1.65210327 1.43141844 1.8965466  1.36756187 1.43586493]\n",
      " [1.89192336 1.80619399 1.70388858 1.10022689 1.91948261]\n",
      " [1.7142413  1.99884701 1.1494483  1.86812606 1.16249293]\n",
      " [1.61555956 1.12381998 1.84800823 1.80731896 1.56910074]\n",
      " [1.4071833  1.069167   1.69742877 1.45354268 1.7220556 ]]\n"
     ]
    }
   ],
   "source": [
    "array = np.random.uniform(low = 1,high = 2, size=(20, 5))\n",
    "print(array)"
   ]
  },
  {
   "cell_type": "code",
   "execution_count": 18,
   "id": "8587e91b",
   "metadata": {},
   "outputs": [
    {
     "name": "stdout",
     "output_type": "stream",
     "text": [
      "           a         b         c         d         e\n",
      "0   1.138183  1.196582  1.368725  1.820993  1.097101\n",
      "1   1.837945  1.096098  1.976459  1.468651  1.976761\n",
      "2   1.604846  1.739264  1.039188  1.282807  1.120197\n",
      "3   1.296140  1.118728  1.317983  1.414263  1.064147\n",
      "4   1.692472  1.566601  1.265389  1.523248  1.093941\n",
      "5   1.575946  1.929296  1.318569  1.667410  1.131798\n",
      "6   1.716327  1.289406  1.183191  1.586513  1.020108\n",
      "7   1.828940  1.004695  1.677817  1.270008  1.735194\n",
      "8   1.962189  1.248753  1.576157  1.592042  1.572252\n",
      "9   1.223082  1.952749  1.447125  1.846409  1.699479\n",
      "10  1.297437  1.813798  1.396506  1.881103  1.581273\n",
      "11  1.881735  1.692532  1.725254  1.501324  1.956084\n",
      "12  1.643990  1.423855  1.606393  1.019193  1.301575\n",
      "13  1.660174  1.290078  1.618015  1.428769  1.135474\n",
      "14  1.298282  1.569965  1.590873  1.574325  1.653201\n",
      "15  1.652103  1.431418  1.896547  1.367562  1.435865\n",
      "16  1.891923  1.806194  1.703889  1.100227  1.919483\n",
      "17  1.714241  1.998847  1.149448  1.868126  1.162493\n",
      "18  1.615560  1.123820  1.848008  1.807319  1.569101\n",
      "19  1.407183  1.069167  1.697429  1.453543  1.722056\n"
     ]
    }
   ],
   "source": [
    "import pandas as pd\n",
    "df = pd.DataFrame(array, columns =['a', 'b', 'c', 'd', 'e'])\n",
    "print(df)"
   ]
  },
  {
   "cell_type": "code",
   "execution_count": 20,
   "id": "01a923f6",
   "metadata": {},
   "outputs": [
    {
     "data": {
      "text/plain": [
       "'e'"
      ]
     },
     "execution_count": 20,
     "metadata": {},
     "output_type": "execute_result"
    }
   ],
   "source": [
    "a = df.std()\n",
    "print(df.columns[np.argmax(a)])\n"
   ]
  },
  {
   "cell_type": "code",
   "execution_count": 24,
   "id": "bef4f78c",
   "metadata": {},
   "outputs": [
    {
     "name": "stdout",
     "output_type": "stream",
     "text": [
      "3\n"
     ]
    }
   ],
   "source": [
    "b = (df.mean(axis = 1))\n",
    "print(np.argmin(b))"
   ]
  },
  {
   "cell_type": "markdown",
   "id": "e0c36283",
   "metadata": {},
   "source": [
    "#### <span style=\"color:red\"> Question 11 </span>"
   ]
  },
  {
   "cell_type": "code",
   "execution_count": 25,
   "id": "973aab63",
   "metadata": {},
   "outputs": [],
   "source": [
    "f = df.sum(axis = 1)"
   ]
  },
  {
   "cell_type": "code",
   "execution_count": 26,
   "id": "f7502251",
   "metadata": {},
   "outputs": [
    {
     "name": "stdout",
     "output_type": "stream",
     "text": [
      "           a         b         c         d         e         f\n",
      "0   1.138183  1.196582  1.368725  1.820993  1.097101  6.621585\n",
      "1   1.837945  1.096098  1.976459  1.468651  1.976761  8.355915\n",
      "2   1.604846  1.739264  1.039188  1.282807  1.120197  6.786300\n",
      "3   1.296140  1.118728  1.317983  1.414263  1.064147  6.211262\n",
      "4   1.692472  1.566601  1.265389  1.523248  1.093941  7.141652\n",
      "5   1.575946  1.929296  1.318569  1.667410  1.131798  7.623020\n",
      "6   1.716327  1.289406  1.183191  1.586513  1.020108  6.795545\n",
      "7   1.828940  1.004695  1.677817  1.270008  1.735194  7.516654\n",
      "8   1.962189  1.248753  1.576157  1.592042  1.572252  7.951393\n",
      "9   1.223082  1.952749  1.447125  1.846409  1.699479  8.168844\n",
      "10  1.297437  1.813798  1.396506  1.881103  1.581273  7.970117\n",
      "11  1.881735  1.692532  1.725254  1.501324  1.956084  8.756929\n",
      "12  1.643990  1.423855  1.606393  1.019193  1.301575  6.995006\n",
      "13  1.660174  1.290078  1.618015  1.428769  1.135474  7.132509\n",
      "14  1.298282  1.569965  1.590873  1.574325  1.653201  7.686646\n",
      "15  1.652103  1.431418  1.896547  1.367562  1.435865  7.783495\n",
      "16  1.891923  1.806194  1.703889  1.100227  1.919483  8.421715\n",
      "17  1.714241  1.998847  1.149448  1.868126  1.162493  7.893156\n",
      "18  1.615560  1.123820  1.848008  1.807319  1.569101  7.963807\n",
      "19  1.407183  1.069167  1.697429  1.453543  1.722056  7.349377\n"
     ]
    }
   ],
   "source": [
    "df['f'] = f\n",
    "print(df)"
   ]
  },
  {
   "cell_type": "code",
   "execution_count": 27,
   "id": "26810807",
   "metadata": {},
   "outputs": [],
   "source": [
    "df['g'] = df.apply(lambda _: '', axis=1)\n",
    "#df[\"D\"] = np.nan\n"
   ]
  },
  {
   "cell_type": "code",
   "execution_count": 28,
   "id": "440db134",
   "metadata": {},
   "outputs": [
    {
     "name": "stdout",
     "output_type": "stream",
     "text": [
      "           a         b         c         d         e         f    g\n",
      "0   1.138183  1.196582  1.368725  1.820993  1.097101  6.621585  LT8\n",
      "1   1.837945  1.096098  1.976459  1.468651  1.976761  8.355915  GT8\n",
      "2   1.604846  1.739264  1.039188  1.282807  1.120197  6.786300  LT8\n",
      "3   1.296140  1.118728  1.317983  1.414263  1.064147  6.211262  LT8\n",
      "4   1.692472  1.566601  1.265389  1.523248  1.093941  7.141652  LT8\n",
      "5   1.575946  1.929296  1.318569  1.667410  1.131798  7.623020  LT8\n",
      "6   1.716327  1.289406  1.183191  1.586513  1.020108  6.795545  LT8\n",
      "7   1.828940  1.004695  1.677817  1.270008  1.735194  7.516654  LT8\n",
      "8   1.962189  1.248753  1.576157  1.592042  1.572252  7.951393  LT8\n",
      "9   1.223082  1.952749  1.447125  1.846409  1.699479  8.168844  GT8\n",
      "10  1.297437  1.813798  1.396506  1.881103  1.581273  7.970117  LT8\n",
      "11  1.881735  1.692532  1.725254  1.501324  1.956084  8.756929  GT8\n",
      "12  1.643990  1.423855  1.606393  1.019193  1.301575  6.995006  LT8\n",
      "13  1.660174  1.290078  1.618015  1.428769  1.135474  7.132509  LT8\n",
      "14  1.298282  1.569965  1.590873  1.574325  1.653201  7.686646  LT8\n",
      "15  1.652103  1.431418  1.896547  1.367562  1.435865  7.783495  LT8\n",
      "16  1.891923  1.806194  1.703889  1.100227  1.919483  8.421715  GT8\n",
      "17  1.714241  1.998847  1.149448  1.868126  1.162493  7.893156  LT8\n",
      "18  1.615560  1.123820  1.848008  1.807319  1.569101  7.963807  LT8\n",
      "19  1.407183  1.069167  1.697429  1.453543  1.722056  7.349377  LT8\n"
     ]
    }
   ],
   "source": [
    "df['g'] = 'LT8'\n",
    "df.loc[df['f'] >= 8, 'g']= 'GT8'\n",
    "print(df)"
   ]
  },
  {
   "cell_type": "code",
   "execution_count": 29,
   "id": "c5bc694b",
   "metadata": {},
   "outputs": [
    {
     "name": "stdout",
     "output_type": "stream",
     "text": [
      "1     2.750424\n",
      "9     2.681198\n",
      "11    2.864388\n",
      "16    2.767006\n",
      "dtype: float64\n"
     ]
    },
    {
     "name": "stderr",
     "output_type": "stream",
     "text": [
      "/var/folders/bg/j_07f0mn2rldz8mjwf1g6l4w0000gn/T/ipykernel_25907/122160612.py:1: FutureWarning: Dropping of nuisance columns in DataFrame reductions (with 'numeric_only=None') is deprecated; in a future version this will raise TypeError.  Select only valid columns before calling the reduction.\n",
      "  print(df.std(axis = 1).loc[df['g'] == 'GT8'])\n"
     ]
    }
   ],
   "source": [
    "print(df.std(axis = 1).loc[df['g'] == 'GT8'])"
   ]
  },
  {
   "cell_type": "code",
   "execution_count": 30,
   "id": "b0596ba4",
   "metadata": {},
   "outputs": [
    {
     "name": "stdout",
     "output_type": "stream",
     "text": [
      "0     2.178782\n",
      "2     2.233034\n",
      "3     2.032785\n",
      "4     2.342561\n",
      "5     2.505026\n",
      "6     2.234237\n",
      "7     2.474942\n",
      "8     2.606733\n",
      "10    2.612916\n",
      "12    2.295799\n",
      "13    2.337806\n",
      "14    2.513468\n",
      "15    2.549568\n",
      "17    2.602454\n",
      "18    2.613708\n",
      "19    2.411939\n",
      "dtype: float64\n"
     ]
    },
    {
     "name": "stderr",
     "output_type": "stream",
     "text": [
      "/var/folders/bg/j_07f0mn2rldz8mjwf1g6l4w0000gn/T/ipykernel_25907/3191961921.py:1: FutureWarning: Dropping of nuisance columns in DataFrame reductions (with 'numeric_only=None') is deprecated; in a future version this will raise TypeError.  Select only valid columns before calling the reduction.\n",
      "  print(df.std(axis = 1).loc[df['g'] == 'LT8'])\n"
     ]
    }
   ],
   "source": [
    "print(df.std(axis = 1).loc[df['g'] == 'LT8'])"
   ]
  },
  {
   "cell_type": "markdown",
   "id": "2a8d7ddd",
   "metadata": {},
   "source": [
    "#### <span style=\"color:red\"> Question 12 </span>"
   ]
  },
  {
   "cell_type": "code",
   "execution_count": 31,
   "id": "bf72b383",
   "metadata": {},
   "outputs": [
    {
     "name": "stdout",
     "output_type": "stream",
     "text": [
      "[0 1 2 3 4 5]\n",
      "[4 5 6 7 8 9]\n"
     ]
    }
   ],
   "source": [
    "arr1 = np.arange(6)\n",
    "print(arr1)\n",
    "print(arr1 + 4)"
   ]
  },
  {
   "cell_type": "code",
   "execution_count": 32,
   "id": "917cfc49",
   "metadata": {},
   "outputs": [
    {
     "name": "stdout",
     "output_type": "stream",
     "text": [
      "[[ 0  1  2  3  4]\n",
      " [ 5  6  7  8  9]\n",
      " [10 11 12 13 14]\n",
      " [15 16 17 18 19]]\n",
      "[[0]\n",
      " [1]\n",
      " [2]\n",
      " [3]]\n"
     ]
    },
    {
     "data": {
      "text/plain": [
       "array([[ 0,  1,  2,  3,  4],\n",
       "       [ 6,  7,  8,  9, 10],\n",
       "       [12, 13, 14, 15, 16],\n",
       "       [18, 19, 20, 21, 22]])"
      ]
     },
     "execution_count": 32,
     "metadata": {},
     "output_type": "execute_result"
    }
   ],
   "source": [
    "arr2 = np.arange(20).reshape(4,5)\n",
    "arr3 = np.arange(4).reshape(4,1)\n",
    "print(arr2)\n",
    "print(arr3)\n",
    "arr2 + arr3"
   ]
  },
  {
   "cell_type": "markdown",
   "id": "107e893b",
   "metadata": {},
   "source": [
    "#### <span style=\"color:red\"> Question 13 </span>"
   ]
  },
  {
   "cell_type": "code",
   "execution_count": 33,
   "id": "1692c274",
   "metadata": {},
   "outputs": [
    {
     "data": {
      "text/plain": [
       "array([0.86638233, 0.97552151, 0.85580334, 0.01171408, 0.35997806,\n",
       "       0.72999056, 0.17162968, 0.52103661])"
      ]
     },
     "execution_count": 33,
     "metadata": {},
     "output_type": "execute_result"
    }
   ],
   "source": [
    "array = np.random.rand(8)\n",
    "array"
   ]
  },
  {
   "cell_type": "code",
   "execution_count": 34,
   "id": "0398e6c2",
   "metadata": {},
   "outputs": [
    {
     "name": "stdout",
     "output_type": "stream",
     "text": [
      "Min index:  3\n"
     ]
    }
   ],
   "source": [
    "def minIndex(array):\n",
    "    min = 9999999\n",
    "    x = 0\n",
    "  \n",
    "    for i in range(0, len(array)):\n",
    "        \n",
    "        if array[i] < min:\n",
    "            min = array[i]\n",
    "            x = i\n",
    "    return x\n",
    "\n",
    "  \n",
    "print('Min index: ', minIndex(array))"
   ]
  },
  {
   "cell_type": "code",
   "execution_count": 35,
   "id": "86228f2a",
   "metadata": {},
   "outputs": [
    {
     "name": "stdout",
     "output_type": "stream",
     "text": [
      "Min index:  3\n"
     ]
    }
   ],
   "source": [
    "print('Min index: ', np.argmin(array))"
   ]
  }
 ],
 "metadata": {
  "kernelspec": {
   "display_name": "Python 3 (ipykernel)",
   "language": "python",
   "name": "python3"
  },
  "language_info": {
   "codemirror_mode": {
    "name": "ipython",
    "version": 3
   },
   "file_extension": ".py",
   "mimetype": "text/x-python",
   "name": "python",
   "nbconvert_exporter": "python",
   "pygments_lexer": "ipython3",
   "version": "3.9.12"
  }
 },
 "nbformat": 4,
 "nbformat_minor": 5
}
